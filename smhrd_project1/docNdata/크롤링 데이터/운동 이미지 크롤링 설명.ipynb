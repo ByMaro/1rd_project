{
 "cells": [
  {
   "cell_type": "code",
   "execution_count": 2,
   "id": "2b26aa8e",
   "metadata": {},
   "outputs": [],
   "source": [
    "from selenium import webdriver as wb\n",
    "from selenium.webdriver.common.keys import Keys\n",
    "from bs4 import BeautifulSoup as bs\n",
    "\n",
    "import time\n",
    "\n",
    "import os # 파일시스템을 위한 라이브러리 \n",
    "           # ex)파일, 폴더를 생성, 삭제, 존재여부 파악\n",
    "from urllib.request import urlretrieve as urlre # 이미지경로를 파일로 저장"
   ]
  },
  {
   "cell_type": "code",
   "execution_count": null,
   "id": "c21511fd",
   "metadata": {},
   "outputs": [],
   "source": [
    "#imageFlicker > div > div > img:nth-child(1)"
   ]
  },
  {
   "cell_type": "code",
   "execution_count": 5,
   "id": "ab1cf6a3",
   "metadata": {},
   "outputs": [
    {
     "name": "stderr",
     "output_type": "stream",
     "text": [
      "C:\\Users\\GITCT\\AppData\\Local\\Temp/ipykernel_4912/4082220084.py:14: DeprecationWarning: find_elements_by_css_selector is deprecated. Please use find_elements(by=By.CSS_SELECTOR, value=css_selector) instead\n",
      "  img = driver.find_elements_by_css_selector('.exercise-card-grid__cell')\n"
     ]
    }
   ],
   "source": [
    "# 덤벨운동 이미지 크롤링\n",
    "img_list = []\n",
    "driver = wb.Chrome()\n",
    "if not os.path.isdir('./덤벨'):\n",
    "    os.mkdir('./덤벨')\n",
    "    print('폴더생성')\n",
    "\n",
    "for j in range(1,5): # 4페이지 까지 반복 (페이지)\n",
    "    url = f'https://www.acefitness.org/resources/everyone/exercise-library/equipment/dumbbells/?page={j}'\n",
    "    driver.get(url)\n",
    "    driver.maximize_window()\n",
    "    for i in range(12): # 한 페이지 안에 12 개의 이미지 있음\n",
    "        img_list=[]\n",
    "        try:\n",
    "            img = driver.find_elements_by_css_selector('.exercise-card-grid__cell')\n",
    "            img[i].click()\n",
    "            time.sleep(0.5)\n",
    "        except:\n",
    "            break\n",
    "            time.sleep(0.5)\n",
    "            \n",
    "        \n",
    "        # 이름과 이미지 크롤링\n",
    "        soup = bs(driver.page_source, 'lxml')\n",
    "        name = soup.select('body > div.content > header > div > div.exercise-hero__content-wrap > h1')\n",
    "        name=name[0].text.strip()\n",
    "        img = soup.select('#imageFlicker > div > div > img')\n",
    "        \n",
    "        driver.back()\n",
    "        time.sleep(5)\n",
    "        for i in img:\n",
    "            try:\n",
    "                img_list.append(i['data-lazy-src'])\n",
    "            except:\n",
    "                img_list.append(i['src'])\n",
    "\n",
    "        for i in range(len(img_list)): #이미지이름 설정을 운동 정보이름과 같게 설정, 운동별로 이미지가 여러개임\n",
    "             urlre(img_list[i],f'./덤벨/{name}-{i+1}.jpg')        \n",
    "driver.close()       "
   ]
  },
  {
   "cell_type": "code",
   "execution_count": 6,
   "id": "2b8adba2",
   "metadata": {},
   "outputs": [
    {
     "name": "stderr",
     "output_type": "stream",
     "text": [
      "C:\\Users\\GITCT\\AppData\\Local\\Temp/ipykernel_17340/2778231764.py:14: DeprecationWarning: find_elements_by_css_selector is deprecated. Please use find_elements(by=By.CSS_SELECTOR, value=css_selector) instead\n",
      "  img = driver.find_elements_by_css_selector('.exercise-card-grid__cell')\n"
     ]
    }
   ],
   "source": [
    "# 바벨운동 이미지 크롤링\n",
    "img_list = []\n",
    "driver = wb.Chrome()\n",
    "if not os.path.isdir('./바벨'):\n",
    "    os.mkdir('./바벨')\n",
    "    print('폴더생성')\n",
    "\n",
    "for j in range(1,4): # 3페이지 까지 반복(페이지)\n",
    "    url = f'https://www.acefitness.org/resources/everyone/exercise-library/equipment/barbell/?page={j}'\n",
    "    driver.get(url)\n",
    "    driver.maximize_window()\n",
    "    for i in range(12): # 한 페이지 안에 12개의 이미지 있음\n",
    "        img_list=[]\n",
    "        try:\n",
    "            img = driver.find_elements_by_css_selector('.exercise-card-grid__cell')\n",
    "            img[i].click()\n",
    "            time.sleep(0.5)\n",
    "        except:\n",
    "            break\n",
    "            time.sleep(0.5)\n",
    "            \n",
    "        \n",
    "        # 이름과 이미지 크롤링\n",
    "        soup = bs(driver.page_source, 'lxml')\n",
    "        name = soup.select('body > div.content > header > div > div.exercise-hero__content-wrap > h1')\n",
    "        name=name[0].text.strip()\n",
    "        img = soup.select('#imageFlicker > div > div > img')\n",
    "        \n",
    "        driver.back()\n",
    "        time.sleep(5)\n",
    "        for i in img:\n",
    "            try:\n",
    "                img_list.append(i['data-lazy-src'])\n",
    "            except:\n",
    "                img_list.append(i['src'])\n",
    "\n",
    "        for i in range(len(img_list)): #이미지이름 설정을 운동 정보이름과 같게 설정, 운동별로 이미지가 여러개임\n",
    "             urlre(img_list[i],f'./바벨/{name}-{i+1}.jpg')        \n",
    "driver.close()       "
   ]
  },
  {
   "cell_type": "code",
   "execution_count": 9,
   "id": "20cd7611",
   "metadata": {},
   "outputs": [
    {
     "name": "stderr",
     "output_type": "stream",
     "text": [
      "C:\\Users\\GITCT\\AppData\\Local\\Temp/ipykernel_17340/3250275028.py:14: DeprecationWarning: find_elements_by_css_selector is deprecated. Please use find_elements(by=By.CSS_SELECTOR, value=css_selector) instead\n",
      "  img = driver.find_elements_by_css_selector('.exercise-card-grid__cell')\n"
     ]
    }
   ],
   "source": [
    "# 머신운동 이미지 크롤링\n",
    "img_list = []\n",
    "driver = wb.Chrome()\n",
    "if not os.path.isdir('./머신'):\n",
    "    os.mkdir('./머신')\n",
    "    print('폴더생성')\n",
    " \n",
    "for j in range(1,3): # 2페이지 까지 반복(페이지)\n",
    "    url = f'https://www.acefitness.org/resources/everyone/exercise-library/equipment/weight-machines-selectorized/?page={j}'\n",
    "    driver.get(url)\n",
    "    driver.maximize_window()\n",
    "    for i in range(12): # 한 페이지 안에 12개의 이미지 있음\n",
    "        img_list=[]\n",
    "        try:\n",
    "            img = driver.find_elements_by_css_selector('.exercise-card-grid__cell')\n",
    "            img[i].click()\n",
    "            time.sleep(0.5)\n",
    "        except:\n",
    "            break\n",
    "            time.sleep(0.5)\n",
    "            \n",
    "        \n",
    "        # 이름과 이미지 크롤링\n",
    "        soup = bs(driver.page_source, 'lxml')\n",
    "        name = soup.select('body > div.content > header > div > div.exercise-hero__content-wrap > h1')\n",
    "        name=name[0].text.strip()\n",
    "        img = soup.select('#imageFlicker > div > div > img')\n",
    "        \n",
    "        driver.back()\n",
    "        time.sleep(5)\n",
    "        for i in img:\n",
    "            try:\n",
    "                img_list.append(i['data-lazy-src'])\n",
    "            except:\n",
    "                img_list.append(i['src'])\n",
    "\n",
    "        for i in range(len(img_list)): #이미지이름 설정을 운동 정보이름과 같게 설정, 운동별로 이미지가 여러개임\n",
    "             urlre(img_list[i],f'./머신/{name}-{i+1}.jpg')        \n",
    "driver.close()       "
   ]
  }
 ],
 "metadata": {
  "kernelspec": {
   "display_name": "Python 3 (ipykernel)",
   "language": "python",
   "name": "python3"
  },
  "language_info": {
   "codemirror_mode": {
    "name": "ipython",
    "version": 3
   },
   "file_extension": ".py",
   "mimetype": "text/x-python",
   "name": "python",
   "nbconvert_exporter": "python",
   "pygments_lexer": "ipython3",
   "version": "3.9.7"
  }
 },
 "nbformat": 4,
 "nbformat_minor": 5
}
